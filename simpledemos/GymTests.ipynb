{
 "cells": [
  {
   "cell_type": "code",
   "execution_count": 1,
   "id": "e347bb76-157c-4d11-9b5e-63cfe5f6311f",
   "metadata": {},
   "outputs": [],
   "source": [
    "import gym"
   ]
  },
  {
   "cell_type": "code",
   "execution_count": 2,
   "id": "d47a76e8-92f5-4ed6-9fa3-9c90594707a8",
   "metadata": {},
   "outputs": [],
   "source": [
    "env = gym.make(\"CartPole-v0\")\n",
    "#env = gym.make(\"MountainCar-v0\")\n",
    "#env = gym.make(\"SpaceInvaders-v0\")\n",
    "#env = gym.make(\"Pong-v0\")\n",
    "#env = gym.make(\"FrozenLake-v0\")\n",
    "env = gym.wrappers.Monitor(env,\"recording\",force=True)"
   ]
  },
  {
   "cell_type": "code",
   "execution_count": 3,
   "id": "2e4197cb-f594-4ec6-a6c0-5f0941f3fe9c",
   "metadata": {},
   "outputs": [],
   "source": [
    "env.reset()\n",
    "total_steps = 0\n",
    "done = False\n",
    "while not done:\n",
    "    action = env.action_space.sample()\n",
    "    obs,reward,done, _ = env.step(action)\n",
    "    env.render()\n",
    "    total_steps += 1\n",
    "    if total_steps > 100:\n",
    "        break"
   ]
  },
  {
   "cell_type": "code",
   "execution_count": 4,
   "id": "6effb6a9-5f9d-47ac-b634-a748355af151",
   "metadata": {},
   "outputs": [],
   "source": [
    "env.close()"
   ]
  },
  {
   "cell_type": "code",
   "execution_count": 5,
   "id": "a465eb28-1a76-40f1-85b4-93d6100913f1",
   "metadata": {},
   "outputs": [
    {
     "data": {
      "text/plain": [
       "<bound method Monitor.reset of <Monitor<TimeLimit<CartPoleEnv<CartPole-v0>>>>>"
      ]
     },
     "execution_count": 5,
     "metadata": {},
     "output_type": "execute_result"
    }
   ],
   "source": [
    "env.reset"
   ]
  },
  {
   "cell_type": "code",
   "execution_count": null,
   "id": "fea0a30f-c932-4998-8cd4-e4a0468429b6",
   "metadata": {},
   "outputs": [],
   "source": []
  },
  {
   "cell_type": "code",
   "execution_count": null,
   "id": "6b10d8ce-2c5e-4caf-b4b3-96b42329716b",
   "metadata": {},
   "outputs": [],
   "source": []
  }
 ],
 "metadata": {
  "kernelspec": {
   "display_name": "Python 3",
   "language": "python",
   "name": "python3"
  },
  "language_info": {
   "codemirror_mode": {
    "name": "ipython",
    "version": 3
   },
   "file_extension": ".py",
   "mimetype": "text/x-python",
   "name": "python",
   "nbconvert_exporter": "python",
   "pygments_lexer": "ipython3",
   "version": "3.8.10"
  }
 },
 "nbformat": 4,
 "nbformat_minor": 5
}
